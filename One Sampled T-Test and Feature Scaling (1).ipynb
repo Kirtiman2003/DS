{
 "cells": [
  {
   "cell_type": "code",
   "execution_count": 1,
   "id": "e19d9396-7b5d-4d7d-8473-6a95b3e7d24a",
   "metadata": {},
   "outputs": [
    {
     "name": "stdout",
     "output_type": "stream",
     "text": [
      "T-Statistic: 2.6250\n",
      "P-Value: 0.0276\n",
      "Standardized Data (First 5 rows):\n",
      "        CRIM        ZN     INDUS      CHAS       NOX        RM       AGE  \\\n",
      "0 -0.419782  0.284830 -1.287909 -0.272599 -0.144217  0.413672 -0.120013   \n",
      "1 -0.417339 -0.487722 -0.593381 -0.272599 -0.740262  0.194274  0.367166   \n",
      "2 -0.417342 -0.487722 -0.593381 -0.272599 -0.740262  1.282714 -0.265812   \n",
      "3 -0.416750 -0.487722 -1.306878 -0.272599 -0.835284  1.016303 -0.809889   \n",
      "4 -0.412482 -0.487722 -1.306878 -0.272599 -0.835284  1.228577 -0.511180   \n",
      "\n",
      "        DIS       RAD       TAX   PTRATIO         B     LSTAT  \n",
      "0  0.140214 -0.982843 -0.666608 -1.459000  0.441052 -1.075562  \n",
      "1  0.557160 -0.867883 -0.987329 -0.303094  0.441052 -0.492439  \n",
      "2  0.557160 -0.867883 -0.987329 -0.303094  0.396427 -1.208727  \n",
      "3  1.077737 -0.752922 -1.106115  0.113032  0.416163 -1.361517  \n",
      "4  1.077737 -0.752922 -1.106115  0.113032  0.441052 -1.026501  \n",
      "\n",
      "Normalized Data (First 5 rows):\n",
      "        CRIM    ZN     INDUS  CHAS       NOX        RM       AGE       DIS  \\\n",
      "0  0.000000  0.18  0.067815   0.0  0.314815  0.577505  0.641607  0.269203   \n",
      "1  0.000236  0.00  0.242302   0.0  0.172840  0.547998  0.782698  0.348962   \n",
      "2  0.000236  0.00  0.242302   0.0  0.172840  0.694386  0.599382  0.348962   \n",
      "3  0.000293  0.00  0.063050   0.0  0.150206  0.658555  0.441813  0.448545   \n",
      "4  0.000705  0.00  0.063050   0.0  0.150206  0.687105  0.528321  0.448545   \n",
      "\n",
      "        RAD       TAX   PTRATIO         B     LSTAT  \n",
      "0  0.000000  0.208015  0.287234  1.000000  0.089680  \n",
      "1  0.043478  0.104962  0.553191  1.000000  0.204470  \n",
      "2  0.043478  0.104962  0.553191  0.989737  0.063466  \n",
      "3  0.086957  0.066794  0.648936  0.994276  0.033389  \n",
      "4  0.086957  0.066794  0.648936  1.000000  0.099338  \n"
     ]
    }
   ],
   "source": [
    "#One Sampled T-Test\n",
    "\n",
    "#Feature Scaling\n",
    "\n",
    "\n",
    "import scipy.stats as stats\n",
    "\n",
    "\n",
    "student_scores = [72, 88, 64, 74, 67, 79, 85, 75, 89, 77]\n",
    "\n",
    "\n",
    "mu = 70\n",
    "\n",
    "t_statistic, p_value = stats.ttest_1samp(student_scores, mu)\n",
    "\n",
    "print(f\"T-Statistic: {t_statistic:.4f}\")\n",
    "print(f\"P-Value: {p_value:.4f}\")\n",
    "\n"
   ]
  },
  {
   "cell_type": "code",
   "execution_count": 3,
   "id": "772b1546-85c5-4670-9fdb-0e413988c1ee",
   "metadata": {},
   "outputs": [
    {
     "name": "stdout",
     "output_type": "stream",
     "text": [
      "Standardized Data (First 5 rows):\n",
      "        CRIM        ZN     INDUS      CHAS       NOX        RM       AGE  \\\n",
      "0 -0.419782  0.284830 -1.287909 -0.272599 -0.144217  0.413672 -0.120013   \n",
      "1 -0.417339 -0.487722 -0.593381 -0.272599 -0.740262  0.194274  0.367166   \n",
      "2 -0.417342 -0.487722 -0.593381 -0.272599 -0.740262  1.282714 -0.265812   \n",
      "3 -0.416750 -0.487722 -1.306878 -0.272599 -0.835284  1.016303 -0.809889   \n",
      "4 -0.412482 -0.487722 -1.306878 -0.272599 -0.835284  1.228577 -0.511180   \n",
      "\n",
      "        DIS       RAD       TAX   PTRATIO         B     LSTAT  \n",
      "0  0.140214 -0.982843 -0.666608 -1.459000  0.441052 -1.075562  \n",
      "1  0.557160 -0.867883 -0.987329 -0.303094  0.441052 -0.492439  \n",
      "2  0.557160 -0.867883 -0.987329 -0.303094  0.396427 -1.208727  \n",
      "3  1.077737 -0.752922 -1.106115  0.113032  0.416163 -1.361517  \n",
      "4  1.077737 -0.752922 -1.106115  0.113032  0.441052 -1.026501  \n",
      "\n",
      "Normalized Data (First 5 rows):\n",
      "        CRIM    ZN     INDUS  CHAS       NOX        RM       AGE       DIS  \\\n",
      "0  0.000000  0.18  0.067815   0.0  0.314815  0.577505  0.641607  0.269203   \n",
      "1  0.000236  0.00  0.242302   0.0  0.172840  0.547998  0.782698  0.348962   \n",
      "2  0.000236  0.00  0.242302   0.0  0.172840  0.694386  0.599382  0.348962   \n",
      "3  0.000293  0.00  0.063050   0.0  0.150206  0.658555  0.441813  0.448545   \n",
      "4  0.000705  0.00  0.063050   0.0  0.150206  0.687105  0.528321  0.448545   \n",
      "\n",
      "        RAD       TAX   PTRATIO         B     LSTAT  \n",
      "0  0.000000  0.208015  0.287234  1.000000  0.089680  \n",
      "1  0.043478  0.104962  0.553191  1.000000  0.204470  \n",
      "2  0.043478  0.104962  0.553191  0.989737  0.063466  \n",
      "3  0.086957  0.066794  0.648936  0.994276  0.033389  \n",
      "4  0.086957  0.066794  0.648936  1.000000  0.099338  \n"
     ]
    }
   ],
   "source": [
    "\n",
    "from sklearn.datasets import fetch_openml\n",
    "from sklearn.preprocessing import StandardScaler, MinMaxScaler\n",
    "import pandas as pd\n",
    "\n",
    "\n",
    "boston = fetch_openml(name='boston', version=1, as_frame=True)\n",
    "df = boston.data  \n",
    "\n",
    "\n",
    "standard_scaler = StandardScaler()\n",
    "df_standardized = pd.DataFrame(standard_scaler.fit_transform(df), columns=df.columns)\n",
    "\n",
    "\n",
    "minmax_scaler = MinMaxScaler()\n",
    "df_normalized = pd.DataFrame(minmax_scaler.fit_transform(df), columns=df.columns)\n",
    "\n",
    "print(\"Standardized Data (First 5 rows):\\n\", df_standardized.head())\n",
    "print(\"\\nNormalized Data (First 5 rows):\\n\", df_normalized.head())\n"
   ]
  },
  {
   "cell_type": "code",
   "execution_count": null,
   "id": "93dea769-ef90-402c-ae20-a4d056a2527e",
   "metadata": {},
   "outputs": [],
   "source": []
  }
 ],
 "metadata": {
  "kernelspec": {
   "display_name": "Python 3 (ipykernel)",
   "language": "python",
   "name": "python3"
  },
  "language_info": {
   "codemirror_mode": {
    "name": "ipython",
    "version": 3
   },
   "file_extension": ".py",
   "mimetype": "text/x-python",
   "name": "python",
   "nbconvert_exporter": "python",
   "pygments_lexer": "ipython3",
   "version": "3.12.4"
  }
 },
 "nbformat": 4,
 "nbformat_minor": 5
}

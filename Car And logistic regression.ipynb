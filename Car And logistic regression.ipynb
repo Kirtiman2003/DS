{
 "cells": [
  {
   "cell_type": "code",
   "execution_count": 1,
   "id": "fe1f8829-54f7-4a51-95bf-715b6b4c000f",
   "metadata": {},
   "outputs": [
    {
     "name": "stdout",
     "output_type": "stream",
     "text": [
      "Car count by Make, Model, and Color:\n",
      " Make       Model      Color \n",
      "Chevrolet  Impala     Silver    1\n",
      "           Silverado  Green     1\n",
      "Dodge      Charger    Silver    2\n",
      "Ford       F-150      Black     1\n",
      "Honda      Accord     Blue      1\n",
      "                      Red       1\n",
      "           Civic      White     1\n",
      "Nissan     Altima     Green     1\n",
      "Toyota     Camry      Black     1\n",
      "           Corolla    Black     1\n",
      "dtype: int64 \n",
      "\n"
     ]
    }
   ],
   "source": [
    "import pandas as pd\n",
    "import matplotlib.pyplot as plt\n",
    "\n",
    "# Data\n",
    "data = {\n",
    "    'Make': ['Honda', 'Honda', 'Toyota', 'Nissan', 'Toyota', 'Honda', 'Ford', 'Chevrolet', 'Chevrolet', 'Dodge', 'Dodge'],\n",
    "    'Model': ['Accord', 'Accord', 'Camry', 'Altima', 'Corolla', 'Civic', 'F-150', 'Silverado', 'Impala', 'Charger', 'Charger'],\n",
    "    'Color': ['Red', 'Blue', 'Black', 'Green', 'Black', 'White', 'Black', 'Green', 'Silver', 'Silver', 'Silver'],\n",
    "    'Mileage': [63512, 95135, 75006, 69847, 87278, 138789, 89073, 109231, 87675, 34853, 58173],\n",
    "    'Sell Price': [4000, 2500, 45000, 3826, 2224, 2723, 3950, 4959, 3791, 4349, 4252],\n",
    "    'Buy Price': [3000, 2000, 44000, 3000, 2100, 1900, 3000, 4500, 3500, 3500, 4000]\n",
    "}\n",
    "\n",
    "# Convert to DataFrame\n",
    "df = pd.DataFrame(data)\n",
    "\n",
    "# 1. How many cars by Make, Model, and Color\n",
    "pivot_count = df.pivot_table(index=['Make', 'Model', 'Color'], aggfunc='size')\n",
    "print(\"Car count by Make, Model, and Color:\\n\", pivot_count, '\\n')"
   ]
  },
  {
   "cell_type": "code",
   "execution_count": 3,
   "id": "d380bcf6-6a68-48b9-acdc-1a63bd7a3633",
   "metadata": {},
   "outputs": [
    {
     "name": "stdout",
     "output_type": "stream",
     "text": [
      "Profit margin by Make:\n",
      " Make\n",
      "Chevrolet     750\n",
      "Dodge        1101\n",
      "Ford          950\n",
      "Honda        2323\n",
      "Nissan        826\n",
      "Toyota       1124\n",
      "Name: Profit, dtype: int64 \n",
      "\n"
     ]
    }
   ],
   "source": [
    "# 2. Profit Margin for each Make\n",
    "df['Profit'] = df['Sell Price'] - df['Buy Price']\n",
    "profit_margin = df.groupby('Make')['Profit'].sum()\n",
    "print(\"Profit margin by Make:\\n\", profit_margin, '\\n')"
   ]
  },
  {
   "cell_type": "code",
   "execution_count": 5,
   "id": "fb2dbe1e-861c-45b4-90c8-f4f590a63660",
   "metadata": {},
   "outputs": [
    {
     "name": "stdout",
     "output_type": "stream",
     "text": [
      "Average Sell and Buy Price:\n",
      " Sell Price    7415.818182\n",
      "Buy Price     6772.727273\n",
      "dtype: float64 \n",
      "\n"
     ]
    }
   ],
   "source": [
    "# 3. Average Cost of Vehicles\n",
    "average_cost = df[['Sell Price', 'Buy Price']].mean()\n",
    "print(\"Average Sell and Buy Price:\\n\", average_cost, '\\n')"
   ]
  },
  {
   "cell_type": "code",
   "execution_count": 7,
   "id": "6ebc9db1-c3b7-49bf-9da2-9e1b6b7e4fae",
   "metadata": {},
   "outputs": [
    {
     "name": "stdout",
     "output_type": "stream",
     "text": [
      "Percentage of cars by Color:\n",
      " Color\n",
      "Black     27.272727\n",
      "Silver    27.272727\n",
      "Green     18.181818\n",
      "Red        9.090909\n",
      "Blue       9.090909\n",
      "White      9.090909\n",
      "Name: proportion, dtype: float64 \n",
      "\n"
     ]
    }
   ],
   "source": [
    "# 4. Percentage of cars by Color\n",
    "color_percentage = df['Color'].value_counts(normalize=True) * 100\n",
    "print(\"Percentage of cars by Color:\\n\", color_percentage, '\\n')\n",
    "\n"
   ]
  },
  {
   "cell_type": "code",
   "execution_count": 17,
   "id": "b412ed14-3f3f-497d-b8d2-f87dd5291738",
   "metadata": {
    "scrolled": true
   },
   "outputs": [
    {
     "name": "stdout",
     "output_type": "stream",
     "text": [
      "Accuracy: 1.00\n",
      "              precision    recall  f1-score   support\n",
      "\n",
      "           0       1.00      1.00      1.00        19\n",
      "           1       1.00      1.00      1.00        11\n",
      "\n",
      "    accuracy                           1.00        30\n",
      "   macro avg       1.00      1.00      1.00        30\n",
      "weighted avg       1.00      1.00      1.00        30\n",
      "\n"
     ]
    }
   ],
   "source": [
    "# Import libraries\n",
    "from sklearn.datasets import load_iris\n",
    "from sklearn.linear_model import LogisticRegression\n",
    "from sklearn.model_selection import train_test_split\n",
    "from sklearn.metrics import accuracy_score, classification_report\n",
    "\n",
    "# Load data and convert to binary classification\n",
    "X, y = load_iris(return_X_y=True)\n",
    "y_binary = (y == 2).astype(int)  # 1 for Virginica, 0 otherwise\n",
    "\n",
    "# Split data\n",
    "X_train, X_test, y_train, y_test = train_test_split(X, y_binary, test_size=0.2, random_state=42)\n",
    "\n",
    "# Train model\n",
    "model = LogisticRegression(max_iter=200).fit(X_train, y_train)\n",
    "\n",
    "# Evaluate\n",
    "y_pred = model.predict(X_test)\n",
    "print(f\"Accuracy: {accuracy_score(y_test, y_pred):.2f}\")\n",
    "print(classification_report(y_test, y_pred))"
   ]
  },
  {
   "cell_type": "code",
   "execution_count": 15,
   "id": "ab28f7a6-8ecf-480c-9557-69584ce94e39",
   "metadata": {},
   "outputs": [
    {
     "name": "stdout",
     "output_type": "stream",
     "text": [
      "Accuracy: 1.00\n",
      "              precision    recall  f1-score   support\n",
      "\n",
      "           0       1.00      1.00      1.00        19\n",
      "           1       1.00      1.00      1.00        11\n",
      "\n",
      "    accuracy                           1.00        30\n",
      "   macro avg       1.00      1.00      1.00        30\n",
      "weighted avg       1.00      1.00      1.00        30\n",
      "\n"
     ]
    }
   ],
   "source": []
  }
 ],
 "metadata": {
  "kernelspec": {
   "display_name": "Python 3 (ipykernel)",
   "language": "python",
   "name": "python3"
  },
  "language_info": {
   "codemirror_mode": {
    "name": "ipython",
    "version": 3
   },
   "file_extension": ".py",
   "mimetype": "text/x-python",
   "name": "python",
   "nbconvert_exporter": "python",
   "pygments_lexer": "ipython3",
   "version": "3.12.4"
  }
 },
 "nbformat": 4,
 "nbformat_minor": 5
}
